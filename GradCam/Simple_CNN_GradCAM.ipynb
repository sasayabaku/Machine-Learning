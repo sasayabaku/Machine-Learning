{
  "nbformat": 4,
  "nbformat_minor": 0,
  "metadata": {
    "colab": {
      "name": "Simple_CNN_GradCAM",
      "provenance": [],
      "collapsed_sections": [],
      "toc_visible": true
    },
    "kernelspec": {
      "name": "python3",
      "display_name": "Python 3"
    },
    "accelerator": "GPU",
    "widgets": {
      "application/vnd.jupyter.widget-state+json": {
        "a8bc41383b2e496baa1102d7a44ca42e": {
          "model_module": "@jupyter-widgets/controls",
          "model_name": "HBoxModel",
          "state": {
            "_view_name": "HBoxView",
            "_dom_classes": [],
            "_model_name": "HBoxModel",
            "_view_module": "@jupyter-widgets/controls",
            "_model_module_version": "1.5.0",
            "_view_count": null,
            "_view_module_version": "1.5.0",
            "box_style": "",
            "layout": "IPY_MODEL_d78dbf7aa4c34eb7aca0948798f66acf",
            "_model_module": "@jupyter-widgets/controls",
            "children": [
              "IPY_MODEL_bfbc408e62784df0867c6b8adee1ded5",
              "IPY_MODEL_81215fced8134ecbb5c43c392a89658e"
            ]
          }
        },
        "d78dbf7aa4c34eb7aca0948798f66acf": {
          "model_module": "@jupyter-widgets/base",
          "model_name": "LayoutModel",
          "state": {
            "_view_name": "LayoutView",
            "grid_template_rows": null,
            "right": null,
            "justify_content": null,
            "_view_module": "@jupyter-widgets/base",
            "overflow": null,
            "_model_module_version": "1.2.0",
            "_view_count": null,
            "flex_flow": null,
            "width": null,
            "min_width": null,
            "border": null,
            "align_items": null,
            "bottom": null,
            "_model_module": "@jupyter-widgets/base",
            "top": null,
            "grid_column": null,
            "overflow_y": null,
            "overflow_x": null,
            "grid_auto_flow": null,
            "grid_area": null,
            "grid_template_columns": null,
            "flex": null,
            "_model_name": "LayoutModel",
            "justify_items": null,
            "grid_row": null,
            "max_height": null,
            "align_content": null,
            "visibility": null,
            "align_self": null,
            "height": null,
            "min_height": null,
            "padding": null,
            "grid_auto_rows": null,
            "grid_gap": null,
            "max_width": null,
            "order": null,
            "_view_module_version": "1.2.0",
            "grid_template_areas": null,
            "object_position": null,
            "object_fit": null,
            "grid_auto_columns": null,
            "margin": null,
            "display": null,
            "left": null
          }
        },
        "bfbc408e62784df0867c6b8adee1ded5": {
          "model_module": "@jupyter-widgets/controls",
          "model_name": "FloatProgressModel",
          "state": {
            "_view_name": "ProgressView",
            "style": "IPY_MODEL_ba470ac3d2de4a3aa59f5625ddca3033",
            "_dom_classes": [],
            "description": "",
            "_model_name": "FloatProgressModel",
            "bar_style": "info",
            "max": 1,
            "_view_module": "@jupyter-widgets/controls",
            "_model_module_version": "1.5.0",
            "value": 1,
            "_view_count": null,
            "_view_module_version": "1.5.0",
            "orientation": "horizontal",
            "min": 0,
            "description_tooltip": null,
            "_model_module": "@jupyter-widgets/controls",
            "layout": "IPY_MODEL_d4ce5442bd0b44d08d52820a7cf6384f"
          }
        },
        "81215fced8134ecbb5c43c392a89658e": {
          "model_module": "@jupyter-widgets/controls",
          "model_name": "HTMLModel",
          "state": {
            "_view_name": "HTMLView",
            "style": "IPY_MODEL_7fc5ddc72ac74be081a9aeaa45669438",
            "_dom_classes": [],
            "description": "",
            "_model_name": "HTMLModel",
            "placeholder": "​",
            "_view_module": "@jupyter-widgets/controls",
            "_model_module_version": "1.5.0",
            "value": " 170500096/? [00:20&lt;00:00, 95038738.53it/s]",
            "_view_count": null,
            "_view_module_version": "1.5.0",
            "description_tooltip": null,
            "_model_module": "@jupyter-widgets/controls",
            "layout": "IPY_MODEL_98887c2db75a42db89f433528989cb9e"
          }
        },
        "ba470ac3d2de4a3aa59f5625ddca3033": {
          "model_module": "@jupyter-widgets/controls",
          "model_name": "ProgressStyleModel",
          "state": {
            "_view_name": "StyleView",
            "_model_name": "ProgressStyleModel",
            "description_width": "initial",
            "_view_module": "@jupyter-widgets/base",
            "_model_module_version": "1.5.0",
            "_view_count": null,
            "_view_module_version": "1.2.0",
            "bar_color": null,
            "_model_module": "@jupyter-widgets/controls"
          }
        },
        "d4ce5442bd0b44d08d52820a7cf6384f": {
          "model_module": "@jupyter-widgets/base",
          "model_name": "LayoutModel",
          "state": {
            "_view_name": "LayoutView",
            "grid_template_rows": null,
            "right": null,
            "justify_content": null,
            "_view_module": "@jupyter-widgets/base",
            "overflow": null,
            "_model_module_version": "1.2.0",
            "_view_count": null,
            "flex_flow": null,
            "width": null,
            "min_width": null,
            "border": null,
            "align_items": null,
            "bottom": null,
            "_model_module": "@jupyter-widgets/base",
            "top": null,
            "grid_column": null,
            "overflow_y": null,
            "overflow_x": null,
            "grid_auto_flow": null,
            "grid_area": null,
            "grid_template_columns": null,
            "flex": null,
            "_model_name": "LayoutModel",
            "justify_items": null,
            "grid_row": null,
            "max_height": null,
            "align_content": null,
            "visibility": null,
            "align_self": null,
            "height": null,
            "min_height": null,
            "padding": null,
            "grid_auto_rows": null,
            "grid_gap": null,
            "max_width": null,
            "order": null,
            "_view_module_version": "1.2.0",
            "grid_template_areas": null,
            "object_position": null,
            "object_fit": null,
            "grid_auto_columns": null,
            "margin": null,
            "display": null,
            "left": null
          }
        },
        "7fc5ddc72ac74be081a9aeaa45669438": {
          "model_module": "@jupyter-widgets/controls",
          "model_name": "DescriptionStyleModel",
          "state": {
            "_view_name": "StyleView",
            "_model_name": "DescriptionStyleModel",
            "description_width": "",
            "_view_module": "@jupyter-widgets/base",
            "_model_module_version": "1.5.0",
            "_view_count": null,
            "_view_module_version": "1.2.0",
            "_model_module": "@jupyter-widgets/controls"
          }
        },
        "98887c2db75a42db89f433528989cb9e": {
          "model_module": "@jupyter-widgets/base",
          "model_name": "LayoutModel",
          "state": {
            "_view_name": "LayoutView",
            "grid_template_rows": null,
            "right": null,
            "justify_content": null,
            "_view_module": "@jupyter-widgets/base",
            "overflow": null,
            "_model_module_version": "1.2.0",
            "_view_count": null,
            "flex_flow": null,
            "width": null,
            "min_width": null,
            "border": null,
            "align_items": null,
            "bottom": null,
            "_model_module": "@jupyter-widgets/base",
            "top": null,
            "grid_column": null,
            "overflow_y": null,
            "overflow_x": null,
            "grid_auto_flow": null,
            "grid_area": null,
            "grid_template_columns": null,
            "flex": null,
            "_model_name": "LayoutModel",
            "justify_items": null,
            "grid_row": null,
            "max_height": null,
            "align_content": null,
            "visibility": null,
            "align_self": null,
            "height": null,
            "min_height": null,
            "padding": null,
            "grid_auto_rows": null,
            "grid_gap": null,
            "max_width": null,
            "order": null,
            "_view_module_version": "1.2.0",
            "grid_template_areas": null,
            "object_position": null,
            "object_fit": null,
            "grid_auto_columns": null,
            "margin": null,
            "display": null,
            "left": null
          }
        }
      }
    }
  },
  "cells": [
    {
      "cell_type": "markdown",
      "metadata": {
        "id": "S6L5RNJTWby3"
      },
      "source": [
        "# GradCAM implement (CNN model)\n",
        "簡単なCNNモデルに、CIFAR10を学習させて、  \n",
        "GradCAMを用いて、モデルの勾配情報を出力するNotebook。\n"
      ]
    },
    {
      "cell_type": "code",
      "metadata": {
        "id": "BdjUHA1i0whq"
      },
      "source": [
        "import pandas as pd\n",
        "import numpy as np\n",
        "import os\n",
        "\n",
        "import torch\n",
        "import torch.nn as nn\n",
        "from torch import Tensor\n",
        "from torch.optim.lr_scheduler import ExponentialLR\n",
        "\n",
        "from torchvision.datasets import CIFAR10\n",
        "from  torchvision import transforms\n",
        "\n",
        "import torch\n",
        "import torch.nn as nn\n",
        "import torch.nn.functional as F\n",
        "from torch.autograd import Variable\n",
        "from torch.utils.data import DataLoader\n",
        "\n",
        "import cv2\n",
        "import matplotlib.cm as cm\n",
        "import matplotlib.pyplot as plt"
      ],
      "execution_count": null,
      "outputs": []
    },
    {
      "cell_type": "markdown",
      "metadata": {
        "id": "yCxsAFMbW62P"
      },
      "source": [
        "# モデルの定義\n",
        "> CNNモデルを定義する"
      ]
    },
    {
      "cell_type": "code",
      "metadata": {
        "id": "Lgsroko61W7s"
      },
      "source": [
        "class CNNModel(nn.Module):\n",
        "    def __init__(self):\n",
        "        super(CNNModel, self).__init__()\n",
        "\n",
        "        self.conv1 = nn.Conv2d(3, 64, kernel_size=2)\n",
        "        self.pool1 = nn.MaxPool2d(kernel_size=3)\n",
        "\n",
        "        self.conv2 = nn.Conv2d(64, 32, kernel_size=2)\n",
        "        self.pool2 = nn.MaxPool2d(kernel_size=2)\n",
        "\n",
        "        self.conv3 = nn.Conv2d(32, 12, kernel_size=2)\n",
        "        self.pool3 = nn.MaxPool2d(kernel_size=2)\n",
        "\n",
        "        self.fc1 = nn.Linear(12, 300)\n",
        "        self.fc2 = nn.Linear(300, 10)\n",
        "\n",
        "\n",
        "    def forward(self, x):\n",
        "        out = self.pool1(F.relu(self.conv1(x)))\n",
        "        out = self.pool2(F.relu(self.conv2(out)))\n",
        "        out = self.pool3(F.relu(self.conv3(out)))\n",
        "\n",
        "        out = out.view(out.size(0), -1)\n",
        "\n",
        "        out = F.relu(self.fc1(out))\n",
        "        out = F.relu(self.fc2(out))\n",
        "\n",
        "        return out"
      ],
      "execution_count": null,
      "outputs": []
    },
    {
      "cell_type": "markdown",
      "metadata": {
        "id": "gva0l-pKXC_4"
      },
      "source": [
        "## パラメータ設定"
      ]
    },
    {
      "cell_type": "markdown",
      "metadata": {
        "id": "mAQ017ODXXDK"
      },
      "source": [
        "### CPU / GPU 設定"
      ]
    },
    {
      "cell_type": "code",
      "metadata": {
        "id": "Zl1zvjnY1g4M"
      },
      "source": [
        "device = torch.device(\"cuda\" if torch.cuda.is_available() else \"cpu\")"
      ],
      "execution_count": null,
      "outputs": []
    },
    {
      "cell_type": "markdown",
      "metadata": {
        "id": "blNeFNoCXc1U"
      },
      "source": [
        "### 各種設定\n",
        "* バッチサイズ\n",
        "* エポック数\n",
        "* CIFAR10データ保存先"
      ]
    },
    {
      "cell_type": "code",
      "metadata": {
        "id": "CWRhbNIH1q8N"
      },
      "source": [
        "batch_size = 64\n",
        "epochs = 30\n",
        "cifar_data_root = \"./data\""
      ],
      "execution_count": null,
      "outputs": []
    },
    {
      "cell_type": "markdown",
      "metadata": {
        "id": "iyu_fP1uXk-O"
      },
      "source": [
        "**Transformer: 画像データの変換定義**"
      ]
    },
    {
      "cell_type": "code",
      "metadata": {
        "id": "OJI50EAu1ri_"
      },
      "source": [
        "transform = transforms.Compose(\n",
        "    [\n",
        "        transforms.ToTensor(),\n",
        "        transforms.Normalize((0.5, 0.5, 0.5), (0.5, 0.5, 0.5))\n",
        "    ]\n",
        ")"
      ],
      "execution_count": null,
      "outputs": []
    },
    {
      "cell_type": "markdown",
      "metadata": {
        "id": "mz17_fuVXsWY"
      },
      "source": [
        "**CIFAR10 データダウンロード**"
      ]
    },
    {
      "cell_type": "code",
      "metadata": {
        "colab": {
          "base_uri": "https://localhost:8080/",
          "height": 100,
          "referenced_widgets": [
            "a8bc41383b2e496baa1102d7a44ca42e",
            "d78dbf7aa4c34eb7aca0948798f66acf",
            "bfbc408e62784df0867c6b8adee1ded5",
            "81215fced8134ecbb5c43c392a89658e",
            "ba470ac3d2de4a3aa59f5625ddca3033",
            "d4ce5442bd0b44d08d52820a7cf6384f",
            "7fc5ddc72ac74be081a9aeaa45669438",
            "98887c2db75a42db89f433528989cb9e"
          ]
        },
        "id": "afL6_rh010Tg",
        "outputId": "a0580f33-c9d2-454c-8b7c-5e5bb84c7f0a"
      },
      "source": [
        "train_data = CIFAR10(root=cifar_data_root, download=True, train=True, transform=transform)\n",
        "test_data = CIFAR10(root=cifar_data_root, download=True, train=False, transform=transform)"
      ],
      "execution_count": null,
      "outputs": [
        {
          "output_type": "stream",
          "text": [
            "Downloading https://www.cs.toronto.edu/~kriz/cifar-10-python.tar.gz to ./data/cifar-10-python.tar.gz\n"
          ],
          "name": "stdout"
        },
        {
          "output_type": "display_data",
          "data": {
            "application/vnd.jupyter.widget-view+json": {
              "model_id": "a8bc41383b2e496baa1102d7a44ca42e",
              "version_minor": 0,
              "version_major": 2
            },
            "text/plain": [
              "HBox(children=(FloatProgress(value=1.0, bar_style='info', max=1.0), HTML(value='')))"
            ]
          },
          "metadata": {
            "tags": []
          }
        },
        {
          "output_type": "stream",
          "text": [
            "Extracting ./data/cifar-10-python.tar.gz to ./data\n",
            "Files already downloaded and verified\n"
          ],
          "name": "stdout"
        }
      ]
    },
    {
      "cell_type": "markdown",
      "metadata": {
        "id": "aCIP2iQWXwWs"
      },
      "source": [
        "**学習用 / テスト用のデータローダを作成**"
      ]
    },
    {
      "cell_type": "code",
      "metadata": {
        "id": "pHSxUZ0i113e"
      },
      "source": [
        "train_loader = torch.utils.data.DataLoader(\n",
        "    train_data,\n",
        "    batch_size=batch_size,\n",
        "    shuffle=True, \n",
        "    num_workers=3\n",
        ")\n",
        "\n",
        "test_loader = torch.utils.data.DataLoader(\n",
        "    test_data,\n",
        "    batch_size=batch_size,\n",
        "    shuffle=False,\n",
        "    num_workers=3\n",
        ")"
      ],
      "execution_count": null,
      "outputs": []
    },
    {
      "cell_type": "markdown",
      "metadata": {
        "id": "8izbYQOLX61d"
      },
      "source": [
        "# 学習"
      ]
    },
    {
      "cell_type": "markdown",
      "metadata": {
        "id": "sojW9wuJYAcj"
      },
      "source": [
        "## 定義\n",
        "* モデル\n",
        "* 損失関数\n",
        "* 最適化関数\n",
        "* 学習率スケジューリング"
      ]
    },
    {
      "cell_type": "code",
      "metadata": {
        "id": "OUmWkEGJ14dl"
      },
      "source": [
        "model = CNNModel().to(device)"
      ],
      "execution_count": null,
      "outputs": []
    },
    {
      "cell_type": "code",
      "metadata": {
        "id": "uaA71BHS17Gg"
      },
      "source": [
        "criterion = nn.CrossEntropyLoss()\n",
        "optimizer = torch.optim.SGD(\n",
        "    model.parameters(),\n",
        "    lr=1e-1\n",
        ")"
      ],
      "execution_count": null,
      "outputs": []
    },
    {
      "cell_type": "code",
      "metadata": {
        "id": "n5vyo0bc1-W0"
      },
      "source": [
        "schedular = ExponentialLR(optimizer, gamma=0.9)"
      ],
      "execution_count": null,
      "outputs": []
    },
    {
      "cell_type": "markdown",
      "metadata": {
        "id": "USecmFbwYPP-"
      },
      "source": [
        "## 学習"
      ]
    },
    {
      "cell_type": "code",
      "metadata": {
        "colab": {
          "base_uri": "https://localhost:8080/"
        },
        "id": "aWmcNqtu2CWA",
        "outputId": "a248b741-8588-422b-847f-36f51e1e81f3"
      },
      "source": [
        "for epoch in range(epochs):\n",
        "    \n",
        "    # schedular.step()\n",
        "    \n",
        "    epoch_loss = 0\n",
        "    correct = 0\n",
        "    total = 0\n",
        "    \n",
        "    model.train()\n",
        "    for i, samples in enumerate(train_loader):\n",
        "        data, labels = samples\n",
        "        \n",
        "        data  = data.to(device)\n",
        "        labels = labels.to(device)\n",
        "        \n",
        "        optimizer.zero_grad()\n",
        "        \n",
        "        outputs = model(data)\n",
        "        loss = criterion(outputs, labels)\n",
        "        epoch_loss += loss.item()\n",
        "        \n",
        "        predicted = outputs.max(1,  keepdim=True)[1]\n",
        "\n",
        "        correct += predicted.eq(labels.view_as(predicted)).sum().item()\n",
        "        total += labels.size(0)\n",
        "        \n",
        "        loss.backward()\n",
        "        optimizer.step()\n",
        "\n",
        "    model.eval()\n",
        "    test_correct = 0\n",
        "    test_total = 0\n",
        "    with torch.no_grad():\n",
        "      for i, (data, labels) in enumerate(test_loader):\n",
        "\n",
        "        data = data.to(device)\n",
        "        labels = labels.to(device)\n",
        "\n",
        "        outputs = model(data)\n",
        "        _, predicted = outputs.max(1, keepdim=True)\n",
        "        test_correct += predicted.eq(labels.view_as(predicted)).sum().item()\n",
        "        test_total += labels.size(0)\n",
        "\n",
        "    test_accuracy = test_correct / test_total\n",
        "\n",
        "    print(\"{}epoch:　　　　Loss {},　　　　Accuracy {},    Test Accuracy {}\".format(\n",
        "        (epoch+1),\n",
        "        epoch_loss / len(train_loader),\n",
        "        correct / total,\n",
        "        test_accuracy\n",
        "    ))\n",
        "print(\"==== Finish Training ====\")"
      ],
      "execution_count": null,
      "outputs": [
        {
          "output_type": "stream",
          "text": [
            "1epoch:　　　　Loss 2.231035978287992,　　　　Accuracy 0.17052,    Test Accuracy 0.1944\n",
            "2epoch:　　　　Loss 2.0478293577118603,　　　　Accuracy 0.26734,    Test Accuracy 0.2931\n",
            "3epoch:　　　　Loss 1.9282946563742656,　　　　Accuracy 0.33394,    Test Accuracy 0.3459\n",
            "4epoch:　　　　Loss 1.8428290835426897,　　　　Accuracy 0.37964,    Test Accuracy 0.3854\n",
            "5epoch:　　　　Loss 1.7588618039475072,　　　　Accuracy 0.41268,    Test Accuracy 0.369\n",
            "6epoch:　　　　Loss 1.638310884423268,　　　　Accuracy 0.4503,    Test Accuracy 0.3983\n",
            "7epoch:　　　　Loss 1.5980042045378624,　　　　Accuracy 0.46604,    Test Accuracy 0.4092\n",
            "8epoch:　　　　Loss 1.5320284810212568,　　　　Accuracy 0.48402,    Test Accuracy 0.4526\n",
            "9epoch:　　　　Loss 1.4168006982797248,　　　　Accuracy 0.50934,    Test Accuracy 0.3776\n",
            "10epoch:　　　　Loss 1.3065371244307369,　　　　Accuracy 0.53658,    Test Accuracy 0.4627\n",
            "11epoch:　　　　Loss 1.2738499527849505,　　　　Accuracy 0.54684,    Test Accuracy 0.4795\n",
            "12epoch:　　　　Loss 1.2475358521389535,　　　　Accuracy 0.55594,    Test Accuracy 0.5398\n",
            "13epoch:　　　　Loss 1.2315749214280902,　　　　Accuracy 0.56564,    Test Accuracy 0.5104\n",
            "14epoch:　　　　Loss 1.2176328670338292,　　　　Accuracy 0.57088,    Test Accuracy 0.5064\n",
            "15epoch:　　　　Loss 1.2018057427290456,　　　　Accuracy 0.5755,    Test Accuracy 0.4934\n",
            "16epoch:　　　　Loss 1.191522115789106,　　　　Accuracy 0.58076,    Test Accuracy 0.5324\n",
            "17epoch:　　　　Loss 1.179238127549286,　　　　Accuracy 0.58468,    Test Accuracy 0.534\n",
            "18epoch:　　　　Loss 1.171302497844257,　　　　Accuracy 0.58804,    Test Accuracy 0.5304\n",
            "19epoch:　　　　Loss 1.161093835025797,　　　　Accuracy 0.59216,    Test Accuracy 0.5476\n",
            "20epoch:　　　　Loss 1.1545490299344368,　　　　Accuracy 0.59268,    Test Accuracy 0.4503\n",
            "21epoch:　　　　Loss 1.1497959986214747,　　　　Accuracy 0.59594,    Test Accuracy 0.5525\n",
            "22epoch:　　　　Loss 1.1391909413630394,　　　　Accuracy 0.59724,    Test Accuracy 0.5579\n",
            "23epoch:　　　　Loss 1.1328868506204746,　　　　Accuracy 0.60178,    Test Accuracy 0.5292\n",
            "24epoch:　　　　Loss 1.1305936298254506,　　　　Accuracy 0.60358,    Test Accuracy 0.5223\n",
            "25epoch:　　　　Loss 1.1218941656829755,　　　　Accuracy 0.60474,    Test Accuracy 0.5057\n",
            "26epoch:　　　　Loss 1.1138660573898373,　　　　Accuracy 0.60876,    Test Accuracy 0.5135\n",
            "27epoch:　　　　Loss 1.106757481765869,　　　　Accuracy 0.61162,    Test Accuracy 0.5727\n",
            "28epoch:　　　　Loss 1.103864216667307,　　　　Accuracy 0.61092,    Test Accuracy 0.5391\n",
            "29epoch:　　　　Loss 1.1007640524136135,　　　　Accuracy 0.6117,    Test Accuracy 0.5571\n",
            "30epoch:　　　　Loss 1.0969603866567392,　　　　Accuracy 0.61302,    Test Accuracy 0.5573\n",
            "==== Finish Training ====\n"
          ],
          "name": "stdout"
        }
      ]
    },
    {
      "cell_type": "markdown",
      "metadata": {
        "id": "41WYZXaHYVfI"
      },
      "source": [
        "# GradCAM"
      ]
    },
    {
      "cell_type": "code",
      "metadata": {
        "colab": {
          "base_uri": "https://localhost:8080/"
        },
        "id": "BzD3v-HE2Ezq",
        "outputId": "e7b91e1a-2d88-4e6c-d302-ad425d7b72d8"
      },
      "source": [
        "model.eval()"
      ],
      "execution_count": null,
      "outputs": [
        {
          "output_type": "execute_result",
          "data": {
            "text/plain": [
              "CNNModel(\n",
              "  (conv1): Conv2d(3, 64, kernel_size=(2, 2), stride=(1, 1))\n",
              "  (pool1): MaxPool2d(kernel_size=3, stride=3, padding=0, dilation=1, ceil_mode=False)\n",
              "  (conv2): Conv2d(64, 32, kernel_size=(2, 2), stride=(1, 1))\n",
              "  (pool2): MaxPool2d(kernel_size=2, stride=2, padding=0, dilation=1, ceil_mode=False)\n",
              "  (conv3): Conv2d(32, 12, kernel_size=(2, 2), stride=(1, 1))\n",
              "  (pool3): MaxPool2d(kernel_size=2, stride=2, padding=0, dilation=1, ceil_mode=False)\n",
              "  (fc1): Linear(in_features=12, out_features=300, bias=True)\n",
              "  (fc2): Linear(in_features=300, out_features=10, bias=True)\n",
              ")"
            ]
          },
          "metadata": {
            "tags": []
          },
          "execution_count": 13
        }
      ]
    },
    {
      "cell_type": "markdown",
      "metadata": {
        "id": "tZA1DhSUYaBC"
      },
      "source": [
        "**GradCAMに、1枚の画像を識別させる**"
      ]
    },
    {
      "cell_type": "code",
      "metadata": {
        "id": "hQSeCmie3Jqw"
      },
      "source": [
        "data, label = train_data[1]\n",
        "input_data = data.view(1, data.shape[0], data.shape[1], data.shape[2]).to(device)"
      ],
      "execution_count": null,
      "outputs": []
    },
    {
      "cell_type": "markdown",
      "metadata": {
        "id": "yGSyuH6bYlP0"
      },
      "source": [
        "**モデルの出力を取得**"
      ]
    },
    {
      "cell_type": "code",
      "metadata": {
        "colab": {
          "base_uri": "https://localhost:8080/"
        },
        "id": "yht_5mDz3kmJ",
        "outputId": "069ed8ea-6230-408f-f341-f998907c354a"
      },
      "source": [
        "output = nn.Softmax(dim=1)(model(input_data))\n",
        "confidence, predicted = torch.max(output.data, 1)\n",
        "\n",
        "print(\n",
        "    \"Output: {} \\n Confidence: {} \\n Predicted: {} \\n Answer: {}\".format(output, confidence, predicted, label)\n",
        ")"
      ],
      "execution_count": null,
      "outputs": [
        {
          "output_type": "stream",
          "text": [
            "Output: tensor([[2.3863e-03, 1.2500e-01, 3.7614e-04, 3.5534e-03, 6.8184e-05, 1.7635e-03,\n",
            "         6.8184e-05, 5.9875e-04, 1.3273e-02, 8.5291e-01]], device='cuda:0',\n",
            "       grad_fn=<SoftmaxBackward>) \n",
            " Confidence: tensor([0.8529], device='cuda:0') \n",
            " Predicted: tensor([9], device='cuda:0') \n",
            " Answer: 9\n"
          ],
          "name": "stdout"
        }
      ]
    },
    {
      "cell_type": "markdown",
      "metadata": {
        "id": "End6Z79mTgrw"
      },
      "source": [
        "## GradCAMの定義"
      ]
    },
    {
      "cell_type": "code",
      "metadata": {
        "id": "bBg_OZaO_k7V"
      },
      "source": [
        "class _BaseWrapper(object):\n",
        "  def __init__(self, model):\n",
        "    super(_BaseWrapper, self).__init__()\n",
        "    self.device = next(model.parameters()).device\n",
        "    self.model = model\n",
        "    self.handlers = []\n",
        "\n",
        "  def _encode_one_hot(self, ids):\n",
        "    one_hot = torch.zeros_like(self.logits).to(self.device)\n",
        "    one_hot.scatter_(1, ids, 1.0)\n",
        "    return one_hot\n",
        "\n",
        "  def forward(self, image):\n",
        "    self.image_shape = image.shape[2:]\n",
        "    self.logits = self.model(image)\n",
        "    self.probs = F.softmax(self.logits, dim=1)\n",
        "    return self.probs.sort(dim=1, descending=True)\n",
        "\n",
        "  def backward(self, ids):\n",
        "    one_hot = self._encode_one_hot(ids)\n",
        "    self.model.zero_grad()\n",
        "    self.logits.backward(gradient=one_hot, retain_graph=True)\n",
        "\n",
        "  def generate(self):\n",
        "    raise NotImplementedError\n",
        "\n",
        "\n",
        "class GradCAM(_BaseWrapper):\n",
        "  def __init__(self, model, candidate_layers=None):\n",
        "    super(GradCAM, self).__init__(model)\n",
        "    self.fmap_pool = {}\n",
        "    self.grad_pool = {}\n",
        "    self.candidate_layers = candidate_layers\n",
        "\n",
        "    def _save_fmaps(key):\n",
        "      def forward_hook(module, input, output):\n",
        "        self.fmap_pool[key] = output.detach()\n",
        "      return forward_hook\n",
        "\n",
        "    def _save_grads(key):\n",
        "      def backward_hook(module, grad_in, grad_out):\n",
        "        self.grad_pool[key] = grad_out[0].detach()\n",
        "      return backward_hook\n",
        "\n",
        "    for name, module in self.model.named_modules():\n",
        "      \"\"\"\n",
        "      ここのfor文で、self.modelの各層の出力を取得できるように、hookを定義\n",
        "      \"\"\"\n",
        "      if self.candidate_layers is None or name in self.candidate_layers:\n",
        "        self.handlers.append(module.register_forward_hook(_save_fmaps(name)))\n",
        "        self.handlers.append(module.register_backward_hook(_save_grads(name)))\n",
        "\n",
        "\n",
        "  def _find(self, pool, target_layer):\n",
        "    \"\"\"\n",
        "    Return a map of a specific layer\n",
        "      pool: map of output layer (fmap_pool or grad_pool)\n",
        "      target_layer: name of layer in self.model\n",
        "    \"\"\"\n",
        "\n",
        "    if target_layer in pool.keys():\n",
        "      return pool[target_layer]\n",
        "    else:\n",
        "      raise ValueError(\"Invalid layer name: {}\".format(target_layer))\n",
        "\n",
        "\n",
        "  def generate(self, target_layer):\n",
        "    \n",
        "    fmaps = self._find(self.fmap_pool, target_layer)\n",
        "    gradients = self._find(self.grad_pool, target_layer)\n",
        "    weights = F.adaptive_avg_pool2d(gradients, 1)\n",
        "\n",
        "    gcam = torch.mul(fmaps, weights).sum(dim=1, keepdim=True)\n",
        "    gcam = F.relu(gcam)\n",
        "    gcam = F.interpolate(\n",
        "        gcam, self.image_shape, mode='bilinear', align_corners=False\n",
        "    )\n",
        "\n",
        "    B, C, H, W = gcam.shape\n",
        "\n",
        "    # おそらく正規化\n",
        "    gcam = gcam.view(B, -1)\n",
        "    gcam -= gcam.min(dim=1, keepdim=True)[0]\n",
        "    gcam /= gcam.max(dim=1, keepdim=True)[0]\n",
        "    gcam = gcam.view(B, C, H, W)\n",
        "\n",
        "    return gcam"
      ],
      "execution_count": null,
      "outputs": []
    },
    {
      "cell_type": "code",
      "metadata": {
        "id": "H0M1JEQEWOQa"
      },
      "source": [
        "def out_gradcam(gcam, raw_image, paper_cmap=False):\n",
        "  gcam = gcam.cpu().numpy()\n",
        "  cmap = cm.jet(gcam)[...,:3] * 255.0\n",
        "\n",
        "  if paper_cmap:\n",
        "    alpha = gcam[..., None]\n",
        "    gcam = alpha * cmap + (1 - alpha) * raw_image\n",
        "  else:\n",
        "    gcam = (cmap.astype(np.float) + raw_image.astype(np.float)) / 2\n",
        "\n",
        "  return np.uint8(gcam)"
      ],
      "execution_count": null,
      "outputs": []
    },
    {
      "cell_type": "code",
      "metadata": {
        "id": "iqd3I8lbC3J3"
      },
      "source": [
        "gcam = GradCAM(model=model)"
      ],
      "execution_count": null,
      "outputs": []
    },
    {
      "cell_type": "code",
      "metadata": {
        "id": "HhVme61rDDbh"
      },
      "source": [
        "_ = gcam.forward(input_data)"
      ],
      "execution_count": null,
      "outputs": []
    },
    {
      "cell_type": "code",
      "metadata": {
        "id": "LdhcbbeDI4fp"
      },
      "source": [
        "# single_predicted: 1枚の画像なので、次元を1つ追加\n",
        "single_predicted = predicted.view(1, predicted.shape[0]).to(device)\n",
        "gcam.backward(ids=single_predicted)"
      ],
      "execution_count": null,
      "outputs": []
    },
    {
      "cell_type": "code",
      "metadata": {
        "id": "Bxko_47tKZ8d"
      },
      "source": [
        "regions = gcam.generate(\"conv3\")\n",
        "\n",
        "# tensor を、numpy の画像配列に変換\n",
        "raw_image = input_data[0].to('cpu').detach().numpy().copy()\n",
        "raw_image = raw_image.transpose((1, 2, 0))\n",
        "raw_image = ((raw_image * 0.5) + 0.5) * 255.0\n",
        "raw_image = raw_image.astype(np.uint8)"
      ],
      "execution_count": null,
      "outputs": []
    },
    {
      "cell_type": "markdown",
      "metadata": {
        "id": "eZobCOnAXQpI"
      },
      "source": [
        "## Grad CAM 出力"
      ]
    },
    {
      "cell_type": "code",
      "metadata": {
        "id": "cw-H804WWIXt"
      },
      "source": [
        "output = out_gradcam(\n",
        "    gcam=regions[0, 0],\n",
        "    raw_image=raw_image\n",
        ")"
      ],
      "execution_count": null,
      "outputs": []
    },
    {
      "cell_type": "markdown",
      "metadata": {
        "id": "7h2C26xSe32H"
      },
      "source": [
        "### Raw Image"
      ]
    },
    {
      "cell_type": "code",
      "metadata": {
        "colab": {
          "base_uri": "https://localhost:8080/",
          "height": 283
        },
        "id": "jYEl4qAJWZTn",
        "outputId": "b91afb6c-9102-4578-d1ef-de1a884b8588"
      },
      "source": [
        "plt.imshow(raw_image)"
      ],
      "execution_count": null,
      "outputs": [
        {
          "output_type": "execute_result",
          "data": {
            "text/plain": [
              "<matplotlib.image.AxesImage at 0x7fa8c00336d8>"
            ]
          },
          "metadata": {
            "tags": []
          },
          "execution_count": 26
        },
        {
          "output_type": "display_data",
          "data": {
            "image/png": "[encoded data removed]",
            "text/plain": [
              "<Figure size 432x288 with 1 Axes>"
            ]
          },
          "metadata": {
            "tags": [],
            "needs_background": "light"
          }
        }
      ]
    },
    {
      "cell_type": "markdown",
      "metadata": {
        "id": "GgzG6ekfe_Bv"
      },
      "source": [
        "### GradCAM Output"
      ]
    },
    {
      "cell_type": "code",
      "metadata": {
        "colab": {
          "base_uri": "https://localhost:8080/",
          "height": 283
        },
        "id": "eflBEHvoVkhF",
        "outputId": "5dab10b9-8a58-4885-daaa-79fa889342ce"
      },
      "source": [
        "plt.imshow(output, cmap=\"jet\")\n",
        "plt.colorbar()"
      ],
      "execution_count": null,
      "outputs": [
        {
          "output_type": "execute_result",
          "data": {
            "text/plain": [
              "<matplotlib.colorbar.Colorbar at 0x7f1e525e0da0>"
            ]
          },
          "metadata": {
            "tags": []
          },
          "execution_count": 109
        },
        {
          "output_type": "display_data",
          "data": {
            "image/png": "[encoded data removed]",
            "text/plain": [
              "<Figure size 432x288 with 2 Axes>"
            ]
          },
          "metadata": {
            "tags": [],
            "needs_background": "light"
          }
        }
      ]
    },
    {
      "cell_type": "code",
      "metadata": {
        "id": "LfPjMHwP_948"
      },
      "source": [
        ""
      ],
      "execution_count": null,
      "outputs": []
    }
  ]
}