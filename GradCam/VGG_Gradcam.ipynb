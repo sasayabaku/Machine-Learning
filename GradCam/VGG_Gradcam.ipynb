{
  "nbformat": 4,
  "nbformat_minor": 0,
  "metadata": {
    "colab": {
      "name": "VGG-Gradcam",
      "provenance": [],
      "collapsed_sections": [
        "UvmnetWTFkep",
        "9j8N8DvNI1cQ",
        "End6Z79mTgrw",
        "h5L2aaabOhV3",
        "eZobCOnAXQpI",
        "R6U-n-lpPUB9",
        "IKiDE217PX1n"
      ],
      "toc_visible": true
    },
    "kernelspec": {
      "name": "python3",
      "display_name": "Python 3"
    },
    "accelerator": "GPU"
  },
  "cells": [
    {
      "cell_type": "markdown",
      "metadata": {
        "id": "6JaH6VmBPkL9"
      },
      "source": [
        "# GradCAM implement (VGG19)\n",
        "PyTorchで準備されている。 ImageNetを学習したVGG19モデルを、  \n",
        "CIFAR10を識別できるように、ファインチューニングをして、  \n",
        "GradCAMを用いて、モデルの勾配情報を出力するNotebook。"
      ]
    },
    {
      "cell_type": "code",
      "metadata": {
        "id": "BdjUHA1i0whq"
      },
      "source": [
        "import pandas as pd\n",
        "import numpy as np\n",
        "import os\n",
        "\n",
        "import torch\n",
        "import torch.nn as nn\n",
        "from torch import Tensor\n",
        "from torch.optim.lr_scheduler import ExponentialLR\n",
        "\n",
        "from torchvision.datasets import CIFAR10\n",
        "from  torchvision import transforms\n",
        "import torchvision\n",
        "\n",
        "import torch\n",
        "import torch.nn as nn\n",
        "import torch.nn.functional as F\n",
        "from torch.autograd import Variable\n",
        "from torch.utils.data import DataLoader\n",
        "\n",
        "import cv2\n",
        "import matplotlib.cm as cm\n",
        "import matplotlib.pyplot as plt"
      ],
      "execution_count": 1,
      "outputs": []
    },
    {
      "cell_type": "markdown",
      "metadata": {
        "id": "QF4QXPhNDgKQ"
      },
      "source": [
        "## ハイパーパラメータ設定"
      ]
    },
    {
      "cell_type": "markdown",
      "metadata": {
        "id": "UvmnetWTFkep"
      },
      "source": [
        "### CPU / GPU 設定"
      ]
    },
    {
      "cell_type": "code",
      "metadata": {
        "id": "Zl1zvjnY1g4M"
      },
      "source": [
        "device = torch.device(\"cuda\" if torch.cuda.is_available() else \"cpu\")"
      ],
      "execution_count": 3,
      "outputs": []
    },
    {
      "cell_type": "markdown",
      "metadata": {
        "id": "Fsip35ZIFoeA"
      },
      "source": [
        "### 各種設定\n",
        "* バッチサイズ\n",
        "* エポック数\n",
        "* CIFAR10データ保存先"
      ]
    },
    {
      "cell_type": "code",
      "metadata": {
        "id": "CWRhbNIH1q8N"
      },
      "source": [
        "batch_size = 64\n",
        "epochs = 30\n",
        "cifar_data_root = \"./data\""
      ],
      "execution_count": 4,
      "outputs": []
    },
    {
      "cell_type": "markdown",
      "metadata": {
        "id": "BrvdXp9SGABM"
      },
      "source": [
        "Transformer : 画像データの変換定義"
      ]
    },
    {
      "cell_type": "code",
      "metadata": {
        "id": "OJI50EAu1ri_"
      },
      "source": [
        "transform = transforms.Compose(\n",
        "    [\n",
        "        transforms.ToTensor(),\n",
        "        transforms.Normalize((0.5, 0.5, 0.5), (0.5, 0.5, 0.5))\n",
        "    ]\n",
        ")"
      ],
      "execution_count": 5,
      "outputs": []
    },
    {
      "cell_type": "markdown",
      "metadata": {
        "id": "_QlDrY6PGFJh"
      },
      "source": [
        "CIFAR10データダウンロード"
      ]
    },
    {
      "cell_type": "code",
      "metadata": {
        "colab": {
          "base_uri": "https://localhost:8080/"
        },
        "id": "afL6_rh010Tg",
        "outputId": "9980ea9f-68f9-46f5-ee8e-37bfb3eab79a"
      },
      "source": [
        "train_data = CIFAR10(root=cifar_data_root, download=True, train=True, transform=transform)\n",
        "test_data = CIFAR10(root=cifar_data_root, download=True, train=False, transform=transform)"
      ],
      "execution_count": 6,
      "outputs": [
        {
          "output_type": "stream",
          "text": [
            "Files already downloaded and verified\n",
            "Files already downloaded and verified\n"
          ],
          "name": "stdout"
        }
      ]
    },
    {
      "cell_type": "markdown",
      "metadata": {
        "id": "MEh7Ex2FGLoz"
      },
      "source": [
        "Prepare Train / Validation Data Loader\n",
        "> 学習用 / テスト用のデータローダを作成"
      ]
    },
    {
      "cell_type": "code",
      "metadata": {
        "id": "pHSxUZ0i113e"
      },
      "source": [
        "train_loader = torch.utils.data.DataLoader(\n",
        "    train_data,\n",
        "    batch_size=batch_size,\n",
        "    shuffle=True, \n",
        "    num_workers=3\n",
        ")\n",
        "\n",
        "test_loader = torch.utils.data.DataLoader(\n",
        "    test_data,\n",
        "    batch_size=batch_size,\n",
        "    shuffle=False,\n",
        "    num_workers=3\n",
        ")"
      ],
      "execution_count": 7,
      "outputs": []
    },
    {
      "cell_type": "markdown",
      "metadata": {
        "id": "VWC9f62VGjtK"
      },
      "source": [
        "# VGG ファインチューニング\n",
        "\n",
        "Load pretrained VGG19 Archtecture\n",
        "> PyTorchで ImageNet学習済みモデルをロード"
      ]
    },
    {
      "cell_type": "code",
      "metadata": {
        "id": "qkuxsmlk5RFN"
      },
      "source": [
        "vgg = torchvision.models.vgg19(pretrained=True)"
      ],
      "execution_count": 8,
      "outputs": []
    },
    {
      "cell_type": "markdown",
      "metadata": {
        "id": "tbYCT0vKGwkg"
      },
      "source": [
        "Replace Output Layer for CIFAR10\n",
        "> CIFAR10用に、出力層の付け替え"
      ]
    },
    {
      "cell_type": "code",
      "metadata": {
        "id": "bkOuD5X95mJt"
      },
      "source": [
        "vgg_ftrs = vgg.classifier[6].in_features\n",
        "vgg.classifier[6] = torch.nn.Linear(vgg_ftrs, 10)"
      ],
      "execution_count": 9,
      "outputs": []
    },
    {
      "cell_type": "code",
      "metadata": {
        "id": "OUmWkEGJ14dl"
      },
      "source": [
        "# model = CNNModel().to(device)\n",
        "model = vgg.to(device)"
      ],
      "execution_count": 10,
      "outputs": []
    },
    {
      "cell_type": "markdown",
      "metadata": {
        "id": "sClBJNp2HVsh"
      },
      "source": [
        "Define Loss function / Optimizer\n",
        "> 損失関数と 最適化関数の定義"
      ]
    },
    {
      "cell_type": "code",
      "metadata": {
        "id": "uaA71BHS17Gg"
      },
      "source": [
        "criterion = nn.CrossEntropyLoss()\n",
        "optimizer = torch.optim.SGD(\n",
        "    model.parameters(),\n",
        "    lr=1e-2\n",
        ")"
      ],
      "execution_count": 11,
      "outputs": []
    },
    {
      "cell_type": "markdown",
      "metadata": {
        "id": "hpWeTqOaHgOP"
      },
      "source": [
        "Define Learning Rate Schedular\n",
        "> 学習率のスケジューラ設定"
      ]
    },
    {
      "cell_type": "code",
      "metadata": {
        "id": "n5vyo0bc1-W0"
      },
      "source": [
        "schedular = ExponentialLR(optimizer, gamma=0.95)"
      ],
      "execution_count": 12,
      "outputs": []
    },
    {
      "cell_type": "markdown",
      "metadata": {
        "id": "QRuA40gLIq60"
      },
      "source": [
        "# 学習"
      ]
    },
    {
      "cell_type": "code",
      "metadata": {
        "colab": {
          "base_uri": "https://localhost:8080/"
        },
        "id": "aWmcNqtu2CWA",
        "outputId": "c8dc7a2d-bf4e-4e34-e987-cb2ac141b218"
      },
      "source": [
        "epochs = 10\n",
        "for epoch in range(epochs):\n",
        "    \n",
        "    epoch_loss = 0\n",
        "    correct = 0\n",
        "    total = 0\n",
        "    \n",
        "    model.train()\n",
        "    for i, samples in enumerate(train_loader):\n",
        "        data, labels = samples\n",
        "        \n",
        "        data  = data.to(device)\n",
        "        labels = labels.to(device)\n",
        "        \n",
        "        optimizer.zero_grad()\n",
        "        \n",
        "        outputs = model(data)\n",
        "        loss = criterion(outputs, labels)\n",
        "        epoch_loss += loss.item()\n",
        "        \n",
        "        predicted = outputs.max(1,  keepdim=True)[1]\n",
        "\n",
        "        correct += predicted.eq(labels.view_as(predicted)).sum().item()\n",
        "        total += labels.size(0)\n",
        "        \n",
        "        loss.backward()\n",
        "        optimizer.step()\n",
        "    # schedular.step()\n",
        "\n",
        "\n",
        "    model.eval()\n",
        "    test_correct = 0\n",
        "    test_total = 0\n",
        "    with torch.no_grad():\n",
        "      for i, (data, labels) in enumerate(test_loader):\n",
        "\n",
        "        data = data.to(device)\n",
        "        labels = labels.to(device)\n",
        "\n",
        "        outputs = model(data)\n",
        "        _, predicted = outputs.max(1, keepdim=True)\n",
        "        test_correct += predicted.eq(labels.view_as(predicted)).sum().item()\n",
        "        test_total += labels.size(0)\n",
        "\n",
        "    test_accuracy = test_correct / test_total\n",
        "\n",
        "    print(\"{}epoch:　　　　Loss {},　　　　Accuracy {},    Test Accuracy {}\".format(\n",
        "        (epoch+1),\n",
        "        epoch_loss / len(train_loader),\n",
        "        correct / total,\n",
        "        test_accuracy\n",
        "    ))\n",
        "print(\"==== Finish Training ====\")"
      ],
      "execution_count": 13,
      "outputs": [
        {
          "output_type": "stream",
          "text": [
            "1epoch:　　　　Loss 0.7544081092566786,　　　　Accuracy 0.74234,    Test Accuracy 0.7646\n",
            "2epoch:　　　　Loss 0.429035379930073,　　　　Accuracy 0.85436,    Test Accuracy 0.8351\n",
            "3epoch:　　　　Loss 0.3123513273799511,　　　　Accuracy 0.89366,    Test Accuracy 0.8637\n",
            "4epoch:　　　　Loss 0.23102910902417834,　　　　Accuracy 0.9206,    Test Accuracy 0.8282\n",
            "5epoch:　　　　Loss 0.17230755197660774,　　　　Accuracy 0.9412,    Test Accuracy 0.8684\n",
            "6epoch:　　　　Loss 0.12223151921297011,　　　　Accuracy 0.95878,    Test Accuracy 0.8772\n",
            "7epoch:　　　　Loss 0.08872115049484994,　　　　Accuracy 0.97094,    Test Accuracy 0.8768\n",
            "8epoch:　　　　Loss 0.067385449664622,　　　　Accuracy 0.97756,    Test Accuracy 0.8404\n",
            "9epoch:　　　　Loss 0.0522747009290237,　　　　Accuracy 0.98352,    Test Accuracy 0.8845\n",
            "10epoch:　　　　Loss 0.038933040785065515,　　　　Accuracy 0.9875,    Test Accuracy 0.8874\n",
            "==== Finish Training ====\n"
          ],
          "name": "stdout"
        }
      ]
    },
    {
      "cell_type": "markdown",
      "metadata": {
        "id": "5bu3xhteNcvi"
      },
      "source": [
        "# GradCAM"
      ]
    },
    {
      "cell_type": "code",
      "metadata": {
        "colab": {
          "base_uri": "https://localhost:8080/"
        },
        "id": "BzD3v-HE2Ezq",
        "outputId": "7cc6b390-0b0f-47be-f69c-cd139499cc2e"
      },
      "source": [
        "model.eval()"
      ],
      "execution_count": 37,
      "outputs": [
        {
          "output_type": "execute_result",
          "data": {
            "text/plain": [
              "VGG(\n",
              "  (features): Sequential(\n",
              "    (0): Conv2d(3, 64, kernel_size=(3, 3), stride=(1, 1), padding=(1, 1))\n",
              "    (1): ReLU(inplace=True)\n",
              "    (2): Conv2d(64, 64, kernel_size=(3, 3), stride=(1, 1), padding=(1, 1))\n",
              "    (3): ReLU(inplace=True)\n",
              "    (4): MaxPool2d(kernel_size=2, stride=2, padding=0, dilation=1, ceil_mode=False)\n",
              "    (5): Conv2d(64, 128, kernel_size=(3, 3), stride=(1, 1), padding=(1, 1))\n",
              "    (6): ReLU(inplace=True)\n",
              "    (7): Conv2d(128, 128, kernel_size=(3, 3), stride=(1, 1), padding=(1, 1))\n",
              "    (8): ReLU(inplace=True)\n",
              "    (9): MaxPool2d(kernel_size=2, stride=2, padding=0, dilation=1, ceil_mode=False)\n",
              "    (10): Conv2d(128, 256, kernel_size=(3, 3), stride=(1, 1), padding=(1, 1))\n",
              "    (11): ReLU(inplace=True)\n",
              "    (12): Conv2d(256, 256, kernel_size=(3, 3), stride=(1, 1), padding=(1, 1))\n",
              "    (13): ReLU(inplace=True)\n",
              "    (14): Conv2d(256, 256, kernel_size=(3, 3), stride=(1, 1), padding=(1, 1))\n",
              "    (15): ReLU(inplace=True)\n",
              "    (16): Conv2d(256, 256, kernel_size=(3, 3), stride=(1, 1), padding=(1, 1))\n",
              "    (17): ReLU(inplace=True)\n",
              "    (18): MaxPool2d(kernel_size=2, stride=2, padding=0, dilation=1, ceil_mode=False)\n",
              "    (19): Conv2d(256, 512, kernel_size=(3, 3), stride=(1, 1), padding=(1, 1))\n",
              "    (20): ReLU(inplace=True)\n",
              "    (21): Conv2d(512, 512, kernel_size=(3, 3), stride=(1, 1), padding=(1, 1))\n",
              "    (22): ReLU(inplace=True)\n",
              "    (23): Conv2d(512, 512, kernel_size=(3, 3), stride=(1, 1), padding=(1, 1))\n",
              "    (24): ReLU(inplace=True)\n",
              "    (25): Conv2d(512, 512, kernel_size=(3, 3), stride=(1, 1), padding=(1, 1))\n",
              "    (26): ReLU(inplace=True)\n",
              "    (27): MaxPool2d(kernel_size=2, stride=2, padding=0, dilation=1, ceil_mode=False)\n",
              "    (28): Conv2d(512, 512, kernel_size=(3, 3), stride=(1, 1), padding=(1, 1))\n",
              "    (29): ReLU(inplace=True)\n",
              "    (30): Conv2d(512, 512, kernel_size=(3, 3), stride=(1, 1), padding=(1, 1))\n",
              "    (31): ReLU(inplace=True)\n",
              "    (32): Conv2d(512, 512, kernel_size=(3, 3), stride=(1, 1), padding=(1, 1))\n",
              "    (33): ReLU(inplace=True)\n",
              "    (34): Conv2d(512, 512, kernel_size=(3, 3), stride=(1, 1), padding=(1, 1))\n",
              "    (35): ReLU(inplace=True)\n",
              "    (36): MaxPool2d(kernel_size=2, stride=2, padding=0, dilation=1, ceil_mode=False)\n",
              "  )\n",
              "  (avgpool): AdaptiveAvgPool2d(output_size=(7, 7))\n",
              "  (classifier): Sequential(\n",
              "    (0): Linear(in_features=25088, out_features=4096, bias=True)\n",
              "    (1): ReLU(inplace=True)\n",
              "    (2): Dropout(p=0.5, inplace=False)\n",
              "    (3): Linear(in_features=4096, out_features=4096, bias=True)\n",
              "    (4): ReLU(inplace=True)\n",
              "    (5): Dropout(p=0.5, inplace=False)\n",
              "    (6): Linear(in_features=4096, out_features=10, bias=True)\n",
              "  )\n",
              ")"
            ]
          },
          "metadata": {
            "tags": []
          },
          "execution_count": 37
        }
      ]
    },
    {
      "cell_type": "markdown",
      "metadata": {
        "id": "9j8N8DvNI1cQ"
      },
      "source": [
        "## GradCamに、1枚の画像を識別させる\n",
        "> GradCamに、1枚の画像を識別させる"
      ]
    },
    {
      "cell_type": "code",
      "metadata": {
        "id": "hQSeCmie3Jqw"
      },
      "source": [
        "# test_dataの1つを抽出\n",
        "data, label = test_data[1]\n",
        "input_data = data.view(1, data.shape[0], data.shape[1], data.shape[2]).to(device)"
      ],
      "execution_count": 53,
      "outputs": []
    },
    {
      "cell_type": "markdown",
      "metadata": {
        "id": "gi-d3EiiNnP3"
      },
      "source": [
        "**Get Prediction output**\n",
        "> モデルの出力を取得"
      ]
    },
    {
      "cell_type": "code",
      "metadata": {
        "colab": {
          "base_uri": "https://localhost:8080/"
        },
        "id": "yht_5mDz3kmJ",
        "outputId": "07c6e66c-95ee-44fb-8112-947295728533"
      },
      "source": [
        "output = nn.Softmax(dim=1)(model(input_data))\n",
        "confidence, predicted = torch.max(output.data, 1)\n",
        "\n",
        "print(\n",
        "    \"Output: {} \\n Confidence: {} \\n Predicted: {} \\n Answer: {}\".format(output, confidence, predicted, label)\n",
        ")"
      ],
      "execution_count": 39,
      "outputs": [
        {
          "output_type": "stream",
          "text": [
            "Output: tensor([[1.9656e-05, 2.8250e-05, 9.5156e-07, 9.7462e-08, 4.3462e-08, 3.9018e-08,\n",
            "         6.2908e-08, 5.6937e-08, 9.9995e-01, 1.2998e-06]], device='cuda:0',\n",
            "       grad_fn=<SoftmaxBackward>) \n",
            " Confidence: tensor([0.9999], device='cuda:0') \n",
            " Predicted: tensor([8], device='cuda:0') \n",
            " Answer: 8\n"
          ],
          "name": "stdout"
        }
      ]
    },
    {
      "cell_type": "markdown",
      "metadata": {
        "id": "End6Z79mTgrw"
      },
      "source": [
        "## Define the GradCAM\n",
        "> GradCAMの定義"
      ]
    },
    {
      "cell_type": "code",
      "metadata": {
        "id": "bBg_OZaO_k7V"
      },
      "source": [
        "class _BaseWrapper(object):\n",
        "  def __init__(self, model):\n",
        "    super(_BaseWrapper, self).__init__()\n",
        "    self.device = next(model.parameters()).device\n",
        "    self.model = model\n",
        "    self.handlers = []\n",
        "\n",
        "  def _encode_one_hot(self, ids):\n",
        "    one_hot = torch.zeros_like(self.logits).to(self.device)\n",
        "    one_hot.scatter_(1, ids, 1.0)\n",
        "    return one_hot\n",
        "\n",
        "  def forward(self, image):\n",
        "    self.image_shape = image.shape[2:]\n",
        "    self.logits = self.model(image)\n",
        "    self.probs = F.softmax(self.logits, dim=1)\n",
        "    return self.probs.sort(dim=1, descending=True)\n",
        "\n",
        "  def backward(self, ids):\n",
        "    one_hot = self._encode_one_hot(ids)\n",
        "    self.model.zero_grad()\n",
        "    self.logits.backward(gradient=one_hot, retain_graph=True)\n",
        "\n",
        "  def generate(self):\n",
        "    raise NotImplementedError\n",
        "\n",
        "\n",
        "class GradCAM(_BaseWrapper):\n",
        "  def __init__(self, model, candidate_layers=None):\n",
        "    super(GradCAM, self).__init__(model)\n",
        "    self.fmap_pool = {}\n",
        "    self.grad_pool = {}\n",
        "    self.candidate_layers = candidate_layers\n",
        "\n",
        "    def _save_fmaps(key):\n",
        "      def forward_hook(module, input, output):\n",
        "        self.fmap_pool[key] = output.detach()\n",
        "      return forward_hook\n",
        "\n",
        "    def _save_grads(key):\n",
        "      def backward_hook(module, grad_in, grad_out):\n",
        "        self.grad_pool[key] = grad_out[0].detach()\n",
        "      return backward_hook\n",
        "\n",
        "    for name, module in self.model.named_modules():\n",
        "      \"\"\"\n",
        "      ここのfor文で、self.modelの各層の出力を取得できるように、hookを定義\n",
        "      \"\"\"\n",
        "      if self.candidate_layers is None or name in self.candidate_layers:\n",
        "        self.handlers.append(module.register_forward_hook(_save_fmaps(name)))\n",
        "        self.handlers.append(module.register_backward_hook(_save_grads(name)))\n",
        "\n",
        "\n",
        "  def _find(self, pool, target_layer):\n",
        "    \"\"\"\n",
        "    Return a map of a specific layer\n",
        "      pool: map of output layer (fmap_pool or grad_pool)\n",
        "      target_layer: name of layer in self.model\n",
        "    \"\"\"\n",
        "\n",
        "    if target_layer in pool.keys():\n",
        "      return pool[target_layer]\n",
        "    else:\n",
        "      raise ValueError(\"Invalid layer name: {}\".format(target_layer))\n",
        "\n",
        "\n",
        "  def generate(self, target_layer):\n",
        "    \n",
        "    fmaps = self._find(self.fmap_pool, target_layer)\n",
        "    gradients = self._find(self.grad_pool, target_layer)\n",
        "    weights = F.adaptive_avg_pool2d(gradients, 1)\n",
        "\n",
        "    gcam = torch.mul(fmaps, weights).sum(dim=1, keepdim=True)\n",
        "    gcam = F.relu(gcam)\n",
        "    gcam = F.interpolate(\n",
        "        gcam, self.image_shape, mode='bilinear', align_corners=False\n",
        "    )\n",
        "\n",
        "    B, C, H, W = gcam.shape\n",
        "\n",
        "    # おそらく正規化\n",
        "    gcam = gcam.view(B, -1)\n",
        "    gcam -= gcam.min(dim=1, keepdim=True)[0]\n",
        "    gcam /= gcam.max(dim=1, keepdim=True)[0]\n",
        "    gcam = gcam.view(B, C, H, W)\n",
        "\n",
        "    return gcam"
      ],
      "execution_count": 40,
      "outputs": []
    },
    {
      "cell_type": "code",
      "metadata": {
        "id": "H0M1JEQEWOQa"
      },
      "source": [
        "def out_gradcam(gcam, raw_image, paper_cmap=False):\n",
        "  \"\"\"\n",
        "  GradCAMの出力をHeatMapに変換 + 元画像にマッピング\n",
        "  \"\"\"\n",
        "  gcam = gcam.cpu().numpy()\n",
        "  cmap = cm.jet(gcam)[...,:3] * 255.0\n",
        "\n",
        "  if paper_cmap:\n",
        "    alpha = gcam[..., None]\n",
        "    gcam = alpha * cmap + (1 - alpha) * raw_image\n",
        "  else:\n",
        "    gcam = (cmap.astype(np.float) + raw_image.astype(np.float)) / 2\n",
        "\n",
        "  return np.uint8(gcam)"
      ],
      "execution_count": 52,
      "outputs": []
    },
    {
      "cell_type": "markdown",
      "metadata": {
        "id": "h5L2aaabOhV3"
      },
      "source": [
        "### Forward to GradCAM\n",
        "> モデルから、勾配を取得"
      ]
    },
    {
      "cell_type": "code",
      "metadata": {
        "id": "iqd3I8lbC3J3"
      },
      "source": [
        "gcam = GradCAM(model=model)"
      ],
      "execution_count": 42,
      "outputs": []
    },
    {
      "cell_type": "code",
      "metadata": {
        "id": "HhVme61rDDbh"
      },
      "source": [
        "_ = gcam.forward(input_data)"
      ],
      "execution_count": 43,
      "outputs": []
    },
    {
      "cell_type": "code",
      "metadata": {
        "id": "LdhcbbeDI4fp"
      },
      "source": [
        "# single_predicted: 1枚の画像なので、次元を1つ追加\n",
        "single_predicted = predicted.view(1, predicted.shape[0]).to(device)\n",
        "gcam.backward(ids=single_predicted)"
      ],
      "execution_count": 44,
      "outputs": []
    },
    {
      "cell_type": "code",
      "metadata": {
        "id": "Bxko_47tKZ8d"
      },
      "source": [
        "regions = gcam.generate(\"features.33\")\n",
        "\n",
        "# tensor を、numpy の画像配列に変換\n",
        "raw_image = input_data[0].to('cpu').detach().numpy().copy()\n",
        "raw_image = raw_image.transpose((1, 2, 0))\n",
        "raw_image = ((raw_image * 0.5) + 0.5) * 255.0\n",
        "raw_image = raw_image.astype(np.uint8)"
      ],
      "execution_count": 45,
      "outputs": []
    },
    {
      "cell_type": "markdown",
      "metadata": {
        "id": "eZobCOnAXQpI"
      },
      "source": [
        "## Grad CAM 出力"
      ]
    },
    {
      "cell_type": "code",
      "metadata": {
        "id": "cw-H804WWIXt"
      },
      "source": [
        "output = out_gradcam(\n",
        "    gcam=regions[0, 0],\n",
        "    raw_image=raw_image\n",
        ")"
      ],
      "execution_count": 46,
      "outputs": []
    },
    {
      "cell_type": "markdown",
      "metadata": {
        "id": "R6U-n-lpPUB9"
      },
      "source": [
        "### Raw Image"
      ]
    },
    {
      "cell_type": "code",
      "metadata": {
        "colab": {
          "base_uri": "https://localhost:8080/",
          "height": 283
        },
        "id": "jYEl4qAJWZTn",
        "outputId": "8c414c89-6061-4382-b513-b54c4c9578bd"
      },
      "source": [
        "plt.imshow(raw_image)"
      ],
      "execution_count": 50,
      "outputs": [
        {
          "output_type": "execute_result",
          "data": {
            "text/plain": [
              "<matplotlib.image.AxesImage at 0x7f28206dd668>"
            ]
          },
          "metadata": {
            "tags": []
          },
          "execution_count": 50
        },
        {
          "output_type": "display_data",
          "data": {
            "image/png": "[encoded data removed]",
            "text/plain": [
              "<Figure size 432x288 with 1 Axes>"
            ]
          },
          "metadata": {
            "tags": [],
            "needs_background": "light"
          }
        }
      ]
    },
    {
      "cell_type": "markdown",
      "metadata": {
        "id": "IKiDE217PX1n"
      },
      "source": [
        "### GradCAM Output"
      ]
    },
    {
      "cell_type": "code",
      "metadata": {
        "colab": {
          "base_uri": "https://localhost:8080/",
          "height": 283
        },
        "id": "eflBEHvoVkhF",
        "outputId": "ac893103-47ec-4edf-fc00-920a4c9c6aaa"
      },
      "source": [
        "plt.imshow(output, cmap=\"jet\")\n",
        "plt.colorbar()"
      ],
      "execution_count": 51,
      "outputs": [
        {
          "output_type": "execute_result",
          "data": {
            "text/plain": [
              "<matplotlib.colorbar.Colorbar at 0x7f2821284a58>"
            ]
          },
          "metadata": {
            "tags": []
          },
          "execution_count": 51
        },
        {
          "output_type": "display_data",
          "data": {
            "image/png": "[encoded data removed]",
            "text/plain": [
              "<Figure size 432x288 with 2 Axes>"
            ]
          },
          "metadata": {
            "tags": [],
            "needs_background": "light"
          }
        }
      ]
    },
    {
      "cell_type": "code",
      "metadata": {
        "id": "U_vY4y50AMHT"
      },
      "source": [
        ""
      ],
      "execution_count": 36,
      "outputs": []
    },
    {
      "cell_type": "code",
      "metadata": {
        "id": "vvrWExM8AP-c"
      },
      "source": [
        ""
      ],
      "execution_count": 36,
      "outputs": []
    }
  ]
}